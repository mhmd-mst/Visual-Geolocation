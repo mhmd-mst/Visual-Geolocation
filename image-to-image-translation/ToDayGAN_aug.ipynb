{
  "nbformat": 4,
  "nbformat_minor": 0,
  "metadata": {
    "colab": {
      "name": "ToDayGAN-aug.ipynb",
      "provenance": [],
      "collapsed_sections": []
    },
    "kernelspec": {
      "name": "python3",
      "display_name": "Python 3"
    },
    "language_info": {
      "name": "python"
    }
  },
  "cells": [
    {
      "cell_type": "markdown",
      "source": [
        "#Augment Samples from Dataset"
      ],
      "metadata": {
        "id": "y4BheX_VxQvy"
      }
    },
    {
      "cell_type": "code",
      "source": [
        "!git clone https://github.com/AAnoosheh/ToDayGAN.git\n",
        "%cd ToDayGAN\n",
        "!pip install torch\n",
        "!pip install torchvision\n",
        "!pip install visdom\n",
        "!pip install dominate"
      ],
      "metadata": {
        "id": "5xPCQp7H0gWU"
      },
      "execution_count": null,
      "outputs": []
    },
    {
      "cell_type": "code",
      "source": [
        "### Download sf-xs"
      ],
      "metadata": {
        "id": "hKToCqRJ2Bhx"
      },
      "execution_count": null,
      "outputs": []
    },
    {
      "cell_type": "code",
      "source": [
        "import os\n",
        "import cv2\n",
        "import numpy as np\n",
        "from tqdm import tqdm\n",
        "import shutil"
      ],
      "metadata": {
        "id": "RUNwEkWWxpcj"
      },
      "execution_count": null,
      "outputs": []
    },
    {
      "cell_type": "code",
      "source": [
        "# Create sample directory to be augmented\n",
        "os.makedirs('sf-sample/test/')\n",
        "#sample from sf-xs trainset and prepare for testing\n",
        "for i in os.listdir('small/train'):\n",
        "  for j in os.listdir('small/train/'+i):\n",
        "    if random.random()<=0.2:\n",
        "      img = cv2.imread('small/train/'+i+'/'+j, cv2.IMREAD_COLOR)\n",
        "      zeros = np.zeros_like(img)\n",
        "      concat = np.concatenate([zeros, img], 1)\n",
        "      cv2.imwrite('sf-sample/test/'+j, concat)"
      ],
      "metadata": {
        "id": "9ShD4gKZxipe"
      },
      "execution_count": null,
      "outputs": []
    },
    {
      "cell_type": "code",
      "source": [
        "#create augmented samples\n",
        "!python test.py --phase test --serial_test --name day2night --dataroot ./datasets/ --n_domains 2 --which_epoch 150 --loadSize 512 --checkpoints_dir <path>"
      ],
      "metadata": {
        "id": "P2Xry5FZx0Os"
      },
      "execution_count": null,
      "outputs": []
    },
    {
      "cell_type": "code",
      "source": [
        "#dictionary to keep track of folder of images\n",
        "d = {}\n",
        "for i in os.listdir('small/train'):\n",
        "  d[i] = []\n",
        "for i in os.listdir('small/train'):\n",
        "  for j in os.listdir('small/train/'+i):\n",
        "    d[i].append(j)"
      ],
      "metadata": {
        "id": "cqiriEtwoCyB"
      },
      "execution_count": null,
      "outputs": []
    },
    {
      "cell_type": "code",
      "source": [
        "#Remove original images and rename fake images\n",
        "for i in os.listdir('results/images/'):\n",
        "  if 'real' in i:\n",
        "    os.remove('resluts/images/'+i)\n",
        "  else:\n",
        "    i.replace('_fake_01.png','.jpg')"
      ],
      "metadata": {
        "id": "fWX5GA4M3_F3"
      },
      "execution_count": null,
      "outputs": []
    },
    {
      "cell_type": "code",
      "source": [
        "for i in os.listdir('small/train'):\n",
        "  for j in os.listdir('small/train/'+i):\n",
        "    if j in d[i]:\n",
        "      os.remove('train/'+i+'/'+j)\n",
        "      shutil.move('results/images/'+j,'small/train/'+i+'/'+j)"
      ],
      "metadata": {
        "id": "DxKZ5Bz83_IJ"
      },
      "execution_count": null,
      "outputs": []
    }
  ]
}