{
 "cells": [
  {
   "cell_type": "code",
   "execution_count": 1,
   "metadata": {},
   "outputs": [
    {
     "data": {
      "text/plain": [
       "'/home/hajali/Desktop/DS/MLDL/Visual-Geolocation/1KDataset/chromedriver'"
      ]
     },
     "execution_count": 1,
     "metadata": {},
     "output_type": "execute_result"
    }
   ],
   "source": [
    "from selenium import webdriver\n",
    "from selenium.webdriver.chrome.service import Service\n",
    "import os\n",
    "# from PIL import Image\n",
    "from tkinter import *  \n",
    "from PIL import ImageTk,Image  \n",
    "\n",
    "os.listdir()\n",
    "os.getcwd() + '/chromedriver'"
   ]
  },
  {
   "cell_type": "code",
   "execution_count": 14,
   "metadata": {},
   "outputs": [],
   "source": [
    "service_obj = Service(f\"{os.getcwd()}/chromedriver100\")\n",
    "\n",
    "driver = webdriver.Chrome(service=service_obj)"
   ]
  },
  {
   "cell_type": "code",
   "execution_count": 15,
   "metadata": {},
   "outputs": [
    {
     "name": "stderr",
     "output_type": "stream",
     "text": [
      "<ipython-input-15-8b2a4cdb6965>:3: DeprecationWarning: find_element_by_* commands are deprecated. Please use find_element() instead\n",
      "  search_field = driver.find_element_by_id(\"search\")\n"
     ]
    }
   ],
   "source": [
    "# get method to launch the URL\n",
    "driver.get(\"https://www.instantstreetview.com/\")\n",
    "search_field = driver.find_element_by_id(\"search\")"
   ]
  },
  {
   "cell_type": "code",
   "execution_count": 8,
   "metadata": {},
   "outputs": [],
   "source": [
    "coor = '037.81578,-122.53008'"
   ]
  },
  {
   "cell_type": "code",
   "execution_count": 9,
   "metadata": {},
   "outputs": [],
   "source": [
    "search_field.clear()\n",
    "search_field.send_keys(coor)"
   ]
  },
  {
   "cell_type": "code",
   "execution_count": 25,
   "metadata": {
    "scrolled": true
   },
   "outputs": [],
   "source": [
    "i = -1"
   ]
  },
  {
   "cell_type": "code",
   "execution_count": 88,
   "metadata": {},
   "outputs": [
    {
     "name": "stderr",
     "output_type": "stream",
     "text": [
      "<ipython-input-88-2fde1e68b33a>:48: DeprecationWarning: find_element_by_* commands are deprecated. Please use find_element() instead\n",
      "  self.search_field = self.driver.find_element_by_id(\"search\")\n"
     ]
    },
    {
     "name": "stdout",
     "output_type": "stream",
     "text": [
      "037.75591, -122.50040\n",
      "https://www.instantstreetview.com/\n"
     ]
    },
    {
     "name": "stderr",
     "output_type": "stream",
     "text": [
      "Exception in Tkinter callback\n",
      "Traceback (most recent call last):\n",
      "  File \"/home/hajali/anaconda3/lib/python3.8/tkinter/__init__.py\", line 1883, in __call__\n",
      "    return self.func(*args)\n",
      "  File \"<ipython-input-88-2fde1e68b33a>\", line 81, in button_ok_clicked\n",
      "    lat = url.split(',')[0].split('@')[1]\n",
      "IndexError: list index out of range\n"
     ]
    },
    {
     "name": "stdout",
     "output_type": "stream",
     "text": [
      "https://www.instantstreetview.com/@37.755924,-122.500287,-98.88h,5p,1z,VuZv7DmsAvOBA5xRSUqeLQ\n",
      "@37.755924@-122.500287\n",
      "@037.75591@-122.50040\n"
     ]
    },
    {
     "name": "stderr",
     "output_type": "stream",
     "text": [
      "Exception in Tkinter callback\n",
      "Traceback (most recent call last):\n",
      "  File \"/home/hajali/anaconda3/lib/python3.8/tkinter/__init__.py\", line 1883, in __call__\n",
      "    return self.func(*args)\n",
      "  File \"<ipython-input-88-2fde1e68b33a>\", line 100, in button_ok_clicked\n",
      "    self.draw_img(self.file)\n",
      "TypeError: draw_img() missing 1 required positional argument: 'name'\n"
     ]
    },
    {
     "name": "stdout",
     "output_type": "stream",
     "text": [
      "037.78521, -122.49989\n",
      "https://www.instantstreetview.com/@37.785472,-122.50011,227.99h,4.89p,1z,ZgGXWnXKlo7sblv_b9CgHg\n",
      "@37.785472@-122.50011\n",
      "@037.78521@-122.49989\n"
     ]
    },
    {
     "name": "stderr",
     "output_type": "stream",
     "text": [
      "Exception in Tkinter callback\n",
      "Traceback (most recent call last):\n",
      "  File \"/home/hajali/anaconda3/lib/python3.8/tkinter/__init__.py\", line 1883, in __call__\n",
      "    return self.func(*args)\n",
      "  File \"<ipython-input-88-2fde1e68b33a>\", line 96, in button_ok_clicked\n",
      "    self.name = self.names.pop()\n",
      "IndexError: pop from empty list\n"
     ]
    }
   ],
   "source": [
    "import tkinter as tk\n",
    "from tkinter import ttk\n",
    "from pathlib import Path\n",
    "import shutil\n",
    "\n",
    "\n",
    "class App(Tk):\n",
    "    def __init__(self, files, driver):\n",
    "        super().__init__()\n",
    "\n",
    "        self.names = [n.split('@')[5]+', '+n.split('@')[6] for n in files]\n",
    "        self.files = files\n",
    "        self.src_pth = 'night/TEST'\n",
    "        self.dst_pth = 'night/OK'\n",
    "        \n",
    "        # configure the root window\n",
    "        self.title('My Awesome App')\n",
    "#         self.geometry('300x50')\n",
    "        self.attributes('-zoomed', True)\n",
    "\n",
    "        # frame\n",
    "        self.frame = ttk.Frame(self)\n",
    "        self.frame.pack()\n",
    "        self.frame.place(anchor='center', relx=0.5, rely=0.5)\n",
    "        \n",
    "        # label\n",
    "        self.label = ttk.Label(self.frame)\n",
    "        self.label.pack(side=\"bottom\", fill=\"both\", expand=\"yes\")\n",
    "\n",
    "        # button frame        \n",
    "        self.frame_btn = ttk.Frame(self)\n",
    "        self.frame_btn.pack(side=TOP, anchor=\"e\", padx=8, pady=8)\n",
    "\n",
    "        # button_next\n",
    "        self.button_next = ttk.Button(self.frame_btn, text='\\nNext\\n')\n",
    "        self.button_next['command'] = self.button_next_clicked\n",
    "        self.button_next.pack()\n",
    "    \n",
    "        # button_ok\n",
    "        self.button_ok = ttk.Button(self.frame_btn, text='\\nOk\\n')\n",
    "        self.button_ok['command'] = self.button_ok_clicked\n",
    "        self.button_ok.pack(pady = 8)\n",
    "    \n",
    "        \n",
    "        # Selenium\n",
    "        self.driver = driver\n",
    "        self.driver.get(\"https://www.instantstreetview.com/\")\n",
    "        self.search_field = self.driver.find_element_by_id(\"search\")\n",
    "\n",
    "        self.search_field.clear()\n",
    "        \n",
    "    \n",
    "    def draw_img(self, file, name):\n",
    "        with Image.open(os.path.join(self.src_pth, file)) as img:\n",
    "\n",
    "            width, height = img.size\n",
    "            self.frame.config(width=width, height = height)\n",
    "            img = ImageTk.PhotoImage(img)\n",
    "\n",
    "            # Create a Label Widget to display the text or Image\n",
    "            self.label.configure(image= img)\n",
    "            self.label.image = img   \n",
    "\n",
    "        self.search_field.clear()\n",
    "        self.search_field.send_keys(name)\n",
    "\n",
    "    def button_next_clicked(self):\n",
    "        self.name = self.names.pop()\n",
    "        print(self.name)\n",
    "        self.file = self.files.pop()\n",
    "        self.title(self.name)\n",
    "        \n",
    "        self.draw_img(self.file, self.name)\n",
    "    \n",
    "    def button_ok_clicked(self):\n",
    "        # TODO: OK BUTTON PRESSED\n",
    "        \n",
    "        url = self.driver.current_url\n",
    "        print(url)\n",
    "        ### @40.409192,49.866289,xxxxxxx ####\n",
    "        lat = url.split(',')[0].split('@')[1]\n",
    "        lon = url.split(',')[1]\n",
    "        lat_lon = f'@{lat}@{lon}'\n",
    "        org_lat_lon = f\"@{self.file.split('@')[5]}@{self.file.split('@')[6]}\"\n",
    "        print(lat_lon)\n",
    "        print(org_lat_lon)\n",
    "        \n",
    "        src_file = os.path.join(self.src_pth, self.file)\n",
    "#         self.file.replace(org_lat_lon, lat_lon)\n",
    "        dst_file = os.path.join(self.dst_pth, self.file)\n",
    "        \n",
    "        Path(self.dst_pth).mkdir(exist_ok = True)\n",
    "        shutil.move(src_file, dst_file)\n",
    "        os.rename(dst_file, dst_file.replace(org_lat_lon, lat_lon))\n",
    "        \n",
    "        self.name = self.names.pop()\n",
    "        self.file = self.files.pop()\n",
    "        self.title(self.name)\n",
    "        \n",
    "        self.draw_img(self.file, self.name)\n",
    "    \n",
    "\n",
    "        \n",
    "files = os.listdir('./night/TEST')\n",
    "files_test = files[:3]\n",
    "\n",
    "\n",
    "driver = webdriver.Chrome(service=Service(f\"{os.getcwd()}/chromedriver100\"))\n",
    "\n",
    "app = App(files_test, driver)\n",
    "app.mainloop()"
   ]
  },
  {
   "cell_type": "code",
   "execution_count": 82,
   "metadata": {},
   "outputs": [],
   "source": [
    "driver = webdriver.Chrome(service=Service(f\"{os.getcwd()}/chromedriver100\"))\n",
    "driver.get('https://linuxhint.com/selenium_url_tracking/')"
   ]
  },
  {
   "cell_type": "code",
   "execution_count": 84,
   "metadata": {},
   "outputs": [
    {
     "data": {
      "text/plain": [
       "'https://linuxhint.com/selenium_url_tracking/#google_vignette'"
      ]
     },
     "execution_count": 84,
     "metadata": {},
     "output_type": "execute_result"
    }
   ],
   "source": [
    "driver.current_url"
   ]
  },
  {
   "cell_type": "code",
   "execution_count": null,
   "metadata": {},
   "outputs": [],
   "source": []
  },
  {
   "cell_type": "code",
   "execution_count": null,
   "metadata": {},
   "outputs": [],
   "source": []
  },
  {
   "cell_type": "code",
   "execution_count": 63,
   "metadata": {},
   "outputs": [],
   "source": [
    "from tkinter import *  \n",
    "from PIL import ImageTk,Image  \n",
    "i = -1\n",
    "\n",
    "files = os.listdir('./night/Olds')\n",
    "names = [n.split('@')[5]+', '+n.split('@')[6] for n in files]\n",
    "\n",
    "files_test = files[:3]\n",
    "names_test = names[:3]\n",
    "\n",
    "ws = Tk()  \n",
    "ws.attributes('-zoomed', True)\n",
    "\n",
    "\n",
    "\n",
    "def drawImg():\n",
    "    name = names_test.pop()\n",
    "    file = files_test.pop()\n",
    "    ws.title(name)\n",
    "    \n",
    "#     search_field.clear()\n",
    "#     search_field.send_keys(names_test[i])\n",
    "    \n",
    "    print(name)\n",
    "    \n",
    "    with Image.open(os.path.join('night/Olds', file)) as img:\n",
    "\n",
    "        width, height = img.size\n",
    "        frame.config(width=width, height = height)\n",
    "        img = ImageTk.PhotoImage(img)\n",
    "\n",
    "        # Create a Label Widget to display the text or Image\n",
    "        label = Label(frame, image = img)\n",
    "        label.pack()\n",
    "        print('TEST')\n",
    "    \n",
    "def goNext():\n",
    "    drawImg()\n",
    "    \n",
    "frame = Frame(ws)\n",
    "frame.pack()\n",
    "frame.place(anchor='center', relx=0.5, rely=0.5)\n",
    "\n",
    "\n",
    "next_btn = Button(ws, text=\"Next pic\", command = goNext)\n",
    "next_btn.pack(side=TOP, anchor=\"e\", padx=8, pady=8)\n",
    "\n",
    "ws.mainloop()"
   ]
  },
  {
   "cell_type": "code",
   "execution_count": 16,
   "metadata": {},
   "outputs": [
    {
     "name": "stdout",
     "output_type": "stream",
     "text": [
      "037.79956, -122.43724\n",
      "037.78838, -122.39230\n",
      "037.77645, -122.40520\n"
     ]
    }
   ],
   "source": [
    "from tkinter import *  \n",
    "from PIL import ImageTk,Image  \n",
    "\n",
    "files = os.listdir('./night/Olds')\n",
    "names = [n.split('@')[5]+', '+n.split('@')[6] for n in files]\n",
    "\n",
    "files_test = files[:3]\n",
    "names_test = names[:3]\n",
    "\n",
    "# ws.title('PythonGuides')\n",
    "\n",
    "\n",
    "\n",
    "for i in range(len(files_test)):\n",
    "    search_field.clear()\n",
    "    search_field.send_keys(names_test[i])\n",
    "    print(names_test[i])\n",
    "    ws = Tk()  \n",
    "    ws.attributes('-zoomed', True)\n",
    "    frame = Frame(ws)\n",
    "    frame.pack()\n",
    "    frame.place(anchor='center', relx=0.5, rely=0.5)\n",
    "    with Image.open(os.path.join('night/Olds', files_test[i])) as img:\n",
    "#         img.show()\n",
    "        width, height = img.size\n",
    "        frame.config(width=width, height = height)\n",
    "        img = ImageTk.PhotoImage(img)\n",
    "\n",
    "        # Create a Label Widget to display the text or Image\n",
    "        label = Label(frame, image = img)\n",
    "        label.pack()\n",
    "        ws.mainloop() \n",
    "\n",
    "        \n",
    "#         input('Press enter to resume...')\n"
   ]
  },
  {
   "cell_type": "code",
   "execution_count": null,
   "metadata": {},
   "outputs": [],
   "source": []
  },
  {
   "cell_type": "code",
   "execution_count": null,
   "metadata": {},
   "outputs": [],
   "source": []
  }
 ],
 "metadata": {
  "kernelspec": {
   "display_name": "Python 3",
   "language": "python",
   "name": "python3"
  },
  "language_info": {
   "codemirror_mode": {
    "name": "ipython",
    "version": 3
   },
   "file_extension": ".py",
   "mimetype": "text/x-python",
   "name": "python",
   "nbconvert_exporter": "python",
   "pygments_lexer": "ipython3",
   "version": "3.8.5"
  }
 },
 "nbformat": 4,
 "nbformat_minor": 4
}
